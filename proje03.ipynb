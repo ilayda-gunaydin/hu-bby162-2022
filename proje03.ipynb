{
  "nbformat": 4,
  "nbformat_minor": 0,
  "metadata": {
    "colab": {
      "name": "proje03.ipynb",
      "provenance": [],
      "authorship_tag": "ABX9TyNWrxYOGY9MXH1pmiW3RKj2",
      "include_colab_link": true
    },
    "kernelspec": {
      "name": "python3",
      "display_name": "Python 3"
    },
    "language_info": {
      "name": "python"
    }
  },
  "cells": [
    {
      "cell_type": "markdown",
      "metadata": {
        "id": "view-in-github",
        "colab_type": "text"
      },
      "source": [
        "<a href=\"https://colab.research.google.com/github/ilayda-gunaydin/hu-bby162-2022/blob/main/proje03.ipynb\" target=\"_parent\"><img src=\"https://colab.research.google.com/assets/colab-badge.svg\" alt=\"Open In Colab\"/></a>"
      ]
    },
    {
      "cell_type": "code",
      "execution_count": 18,
      "metadata": {
        "colab": {
          "base_uri": "https://localhost:8080/"
        },
        "id": "tmvTbCu4oMZ-",
        "outputId": "19f52d57-f6f7-4441-afd2-b0ee89b4272e"
      },
      "outputs": [
        {
          "output_type": "stream",
          "name": "stdout",
          "text": [
            "Doğru/Yanlış testine hoşgeldiniz :) \n",
            "Cevaplarınızı doğru ya da yanlış olarak giriniz. Başarılar! :)) \n",
            "Soru 1: Türkiye'nin başkenti Ankara'dır.\n",
            "Cevap: doğru\n",
            "Tebrikler doğru cevap :) \n",
            "Soru 2: Ay dünyanın uydusudur.\n",
            "Cevap: doğru\n",
            "Tebrikler doğru cevap :) \n",
            "Soru 3: En küçük pozitif tam sayı 2'dir.\n",
            "Cevap: doğru\n",
            "Üzgünüz yanlış cevap :( \n",
            "Soru 4: Türkiye Cumhuriyeti'nin kurucusu Mustafa Kemal Atatürk'tür.\n",
            "Cevap: doğru\n",
            "Tebrikler doğru cevap :) \n",
            "Soru 5: Amsterdam, Hollanda'nın başkentidir.\n",
            "Cevap: doğru\n",
            "Tebrikler doğru cevap :) \n",
            "Toplam puanınız: 80\n",
            "Tebrikler testi başarıyla tamamladınız.\n"
          ]
        }
      ],
      "source": [
        "print(\"Doğru/Yanlış testine hoşgeldiniz :) \")\n",
        "\n",
        "print(\"Cevaplarınızı doğru ya da yanlış olarak giriniz. Başarılar! :)) \")\n",
        "\n",
        "puan = 0\n",
        "\n",
        "sorular = [\"Türkiye'nin başkenti Ankara'dır.\",\"Ay dünyanın uydusudur.\", \"En küçük pozitif tam sayı 2'dir.\", \"Türkiye Cumhuriyeti'nin kurucusu Mustafa Kemal Atatürk'tür.\" , \"Amsterdam, Hollanda'nın başkentidir.\"]\n",
        "cevaplar = [\"doğru\", \"doğru\", \"yanlış\", \"doğru\" , \"doğru\"]\n",
        "\n",
        "def testCalis():\n",
        "  soruSırası = 0\n",
        "  cevapSırası = 0\n",
        "  puan = 0\n",
        "\n",
        "  for soru in sorular:\n",
        "    soruSırası +=1\n",
        "    print(\"Soru \"+str(soruSırası)+\": \" + soru)\n",
        "    cevap = input(\"Cevap: \")\n",
        "    if cevap == cevaplar[cevapSırası]:\n",
        "      print(\"Tebrikler doğru cevap :) \")\n",
        "      puan +=1\n",
        "    else:\n",
        "      print(\"Üzgünüz yanlış cevap :( \")\n",
        "    cevapSırası +=1\n",
        "  toplamPuan = int((puan/soruSırası)*100)\n",
        "  print(\"Toplam puanınız: \"+str(toplamPuan))\n",
        "\n",
        "  if toplamPuan >= 60:\n",
        "    print(\"Tebrikler testi başarıyla tamamladınız.\")\n",
        "  else:\n",
        "    print(\"Testte başarısız oldunuz.\")\n",
        "    tekrar = input(\"Testi tekrar çözmek istiyor musunuz?: \")\n",
        "    if tekrar == \"evet\":\n",
        "      testCalis()\n",
        "    else:\n",
        "      print(\"Test bitti.\")\n",
        "\n",
        "testCalis()"
      ]
    }
  ]
}