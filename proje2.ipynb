{
  "nbformat": 4,
  "nbformat_minor": 0,
  "metadata": {
    "colab": {
      "name": "proje2.ipynb",
      "provenance": [],
      "authorship_tag": "ABX9TyPSOfK+NU+BHJZKBuNNPfAQ",
      "include_colab_link": true
    },
    "kernelspec": {
      "name": "python3",
      "display_name": "Python 3"
    },
    "language_info": {
      "name": "python"
    }
  },
  "cells": [
    {
      "cell_type": "markdown",
      "metadata": {
        "id": "view-in-github",
        "colab_type": "text"
      },
      "source": [
        "<a href=\"https://colab.research.google.com/github/ilayda-gunaydin/hu-bby162-2022/blob/main/proje2.ipynb\" target=\"_parent\"><img src=\"https://colab.research.google.com/assets/colab-badge.svg\" alt=\"Open In Colab\"/></a>"
      ]
    },
    {
      "cell_type": "code",
      "execution_count": null,
      "metadata": {
        "colab": {
          "base_uri": "https://localhost:8080/"
        },
        "id": "gL7tcQBchg9D",
        "outputId": "41d100b2-32d1-44cb-f394-9fc5da0680b9"
      },
      "outputs": [
        {
          "output_type": "stream",
          "name": "stdout",
          "text": [
            "Merhaba :)\n",
            "Adam Asmaca Oyununa Hoşgeldiniz :)\n"
          ]
        }
      ],
      "source": [
        "from random import randint\n",
        "\n",
        "print(\"Merhaba :)\")\n",
        "print(\"Adam Asmaca Oyununa Hoşgeldiniz :)\")\n",
        "\n",
        "isim=input(\"İsminizi Giriniz: \")\n",
        "print(\"Oyuna hoş geldiniz\", isim)\n",
        "print(\"Bu oyunun konsepti şehirleri bilmek olacak sayın \",isim)\n",
        "\n",
        "def oyna(adamCan):\n",
        "  kelimeler = seviye1 = [\"ankara\", \"istanbul\", \"izmir\" , \"eskişehir\" , \"bursa\"]\n",
        "  kelimeSayisi = len(kelimeler)\n",
        "  secilen = randint(0, kelimeSayisi-1)\n",
        "  secilenKelime = kelimeler[secilen]\n",
        "\n",
        "  dizilenKelime = []\n",
        "  for diz in kelimeler[secilen]:\n",
        "    dizilenKelime.append(\"_\")\n",
        "  print(dizilenKelime)\n",
        "\n",
        "  while adamCan > 0:\n",
        "    girilenHarf = input(\"Bir harf giriniz: \")\n",
        "    canKontrol = girilenHarf in secilenKelime\n",
        "    if canKontrol == False:\n",
        "      adamCan -=1\n",
        "    i = 0\n",
        "    for kontrol in secilenKelime:\n",
        "      if secilenKelime[i] == girilenHarf:\n",
        "        dizilenKelime[i] = girilenHarf\n",
        "      i +=1\n",
        "    print(dizilenKelime)\n",
        "    print(\"Kalan canınınız: \" + str(adamCan))\n",
        "\n",
        "def seviyeSec():\n",
        "  print(\"Oynamak istediğiniz seviyeyi seçiniz: 1 - 2 - 3 \")\n",
        "  seviye = input(\"Seviye: \")\n",
        "  if seviye == \"1\":\n",
        "    oyna(10)\n",
        "  elif seviye == \"2\":\n",
        "    oyna(5)\n",
        "  elif seviye == \"3\":\n",
        "    oyna(3)\n",
        "  else:\n",
        "    print(\"Üzgünüm! Geçerli bir seviye girmediniz.\")\n",
        "\n",
        "\n",
        "seviyeSec()"
      ]
    }
  ]
}