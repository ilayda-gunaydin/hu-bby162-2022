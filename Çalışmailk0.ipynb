{
  "nbformat": 4,
  "nbformat_minor": 0,
  "metadata": {
    "colab": {
      "name": "Untitled0.ipynb",
      "provenance": [],
      "authorship_tag": "ABX9TyNszgzQ4jcLEiyhyXOJ9tBI",
      "include_colab_link": true
    },
    "kernelspec": {
      "name": "python3",
      "display_name": "Python 3"
    },
    "language_info": {
      "name": "python"
    }
  },
  "cells": [
    {
      "cell_type": "markdown",
      "metadata": {
        "id": "view-in-github",
        "colab_type": "text"
      },
      "source": [
        "<a href=\"https://colab.research.google.com/github/ilayda-gunaydin/hu-bby162-2022/blob/main/%C3%87al%C4%B1%C5%9Fmailk0.ipynb\" target=\"_parent\"><img src=\"https://colab.research.google.com/assets/colab-badge.svg\" alt=\"Open In Colab\"/></a>"
      ]
    },
    {
      "cell_type": "code",
      "execution_count": 7,
      "metadata": {
        "colab": {
          "base_uri": "https://localhost:8080/"
        },
        "id": "icPINLJ8VmdD",
        "outputId": "bcfda22b-d480-48d9-fddf-2113206b95b9"
      },
      "outputs": [
        {
          "output_type": "stream",
          "name": "stdout",
          "text": [
            "Hesap numaranızı giriniz: 6578947656789765\n",
            "Girdiğiniz hesapNumarası: 6578947656789765\n",
            "girdiğiniz hesap numarasının uzunluğu 16'dir\n",
            "Girdiğiniz hesap numarası kontrol sonucu geçti: True\n"
          ]
        }
      ],
      "source": [
        "kontrolLimit = 10\n",
        "hesapNumarası = input(\"Hesap numaranızı giriniz: \")\n",
        "print(\"Girdiğiniz hesapNumarası: \" + hesapNumarası)\n",
        "limitHesap = len(hesapNumarası)\n",
        "print(\"girdiğiniz hesap numarasının uzunluğu %d'dir\" % limitHesap)\n",
        "kontrolEt = kontrolLimit < limitHesap\n",
        "print(\"Girdiğiniz hesap numarası kontrol sonucu geçti: \" + str(kontrolEt))"
      ]
    }
  ]
}