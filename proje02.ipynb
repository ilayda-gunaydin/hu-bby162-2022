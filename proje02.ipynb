{
  "nbformat": 4,
  "nbformat_minor": 0,
  "metadata": {
    "colab": {
      "name": "proje02.ipynb",
      "provenance": [],
      "authorship_tag": "ABX9TyNg616pFF4RZx3R68q9lqA7",
      "include_colab_link": true
    },
    "kernelspec": {
      "name": "python3",
      "display_name": "Python 3"
    },
    "language_info": {
      "name": "python"
    }
  },
  "cells": [
    {
      "cell_type": "markdown",
      "metadata": {
        "id": "view-in-github",
        "colab_type": "text"
      },
      "source": [
        "<a href=\"https://colab.research.google.com/github/ilayda-gunaydin/hu-bby162-2022/blob/main/proje02.ipynb\" target=\"_parent\"><img src=\"https://colab.research.google.com/assets/colab-badge.svg\" alt=\"Open In Colab\"/></a>"
      ]
    },
    {
      "cell_type": "code",
      "execution_count": 1,
      "metadata": {
        "colab": {
          "base_uri": "https://localhost:8080/"
        },
        "id": "oRP78BmVpHrG",
        "outputId": "0e8ca2e9-a21a-4596-cb88-b30a2d0e2b9c"
      },
      "outputs": [
        {
          "output_type": "stream",
          "name": "stdout",
          "text": [
            "Merhaba :)\n",
            "Adam Asmaca Oyununa Hoşgeldiniz :)\n",
            "İsminizi Giriniz: İlayda\n",
            "Oyuna hoş geldin İlayda\n",
            "Bu oyunun konsepti şehirleri bilmek olacak! Hazırsan başlıyoruz İlayda\n",
            "Oynamak istediğiniz seviyeyi seçiniz: 1 - 2 - 3 \n",
            "Seviye: 2\n",
            "['_', '_', '_', '_', '_']\n",
            "Bir harf giriniz: b\n",
            "['b', '_', '_', '_', '_']\n",
            "Kalan canınınız: 5\n",
            "Bir harf giriniz: i\n",
            "['b', '_', '_', '_', '_']\n",
            "Kalan canınınız: 4\n",
            "Bir harf giriniz: r\n",
            "['b', '_', 'r', '_', '_']\n",
            "Kalan canınınız: 4\n",
            "Bir harf giriniz: s\n",
            "['b', '_', 'r', 's', '_']\n",
            "Kalan canınınız: 4\n",
            "Bir harf giriniz: o\n",
            "['b', '_', 'r', 's', '_']\n",
            "Kalan canınınız: 3\n",
            "Bir harf giriniz: p\n",
            "['b', '_', 'r', 's', '_']\n",
            "Kalan canınınız: 2\n",
            "Bir harf giriniz: a\n",
            "['b', '_', 'r', 's', 'a']\n",
            "Kalan canınınız: 2\n",
            "Bir harf giriniz: e\n",
            "['b', '_', 'r', 's', 'a']\n",
            "Kalan canınınız: 1\n",
            "Bir harf giriniz: t\n",
            "['b', '_', 'r', 's', 'a']\n",
            "Kalan canınınız: 0\n"
          ]
        }
      ],
      "source": [
        "from random import randint\n",
        "\n",
        "print(\"Merhaba :)\")\n",
        "print(\"Adam Asmaca Oyununa Hoşgeldiniz :)\")\n",
        "\n",
        "isim=input(\"İsminizi Giriniz: \")\n",
        "print(\"Oyuna hoş geldin\", isim)\n",
        "print(\"Bu oyunun konsepti şehirleri bilmek olacak! Hazırsan başlıyoruz\",isim)\n",
        "\n",
        "def oyna(adamCan):\n",
        "  kelimeler = seviye1 = [\"ankara\", \"istanbul\", \"izmir\" , \"eskişehir\" , \"bursa\"]\n",
        "  kelimeSayisi = len(kelimeler)\n",
        "  secilen = randint(0, kelimeSayisi-1)\n",
        "  secilenKelime = kelimeler[secilen]\n",
        "\n",
        "  dizilenKelime = []\n",
        "  for diz in kelimeler[secilen]:\n",
        "    dizilenKelime.append(\"_\")\n",
        "  print(dizilenKelime)\n",
        "\n",
        "  while adamCan > 0:\n",
        "    girilenHarf = input(\"Bir harf giriniz: \")\n",
        "    canKontrol = girilenHarf in secilenKelime\n",
        "    if canKontrol == False:\n",
        "      adamCan -=1\n",
        "    i = 0\n",
        "    for kontrol in secilenKelime:\n",
        "      if secilenKelime[i] == girilenHarf:\n",
        "        dizilenKelime[i] = girilenHarf\n",
        "      i +=1\n",
        "    print(dizilenKelime)\n",
        "    print(\"Kalan canınınız: \" + str(adamCan))\n",
        "\n",
        "def seviyeSec():\n",
        "  print(\"Oynamak istediğiniz seviyeyi seçiniz: 1 - 2 - 3 \")\n",
        "  seviye = input(\"Seviye: \")\n",
        "  if seviye == \"1\":\n",
        "    oyna(10)\n",
        "  elif seviye == \"2\":\n",
        "    oyna(5)\n",
        "  elif seviye == \"3\":\n",
        "    oyna(3)\n",
        "  else:\n",
        "    print(\"Malesef geçerli bir seviye girmediniz.\")\n",
        "\n",
        "\n",
        "seviyeSec()"
      ]
    }
  ]
}