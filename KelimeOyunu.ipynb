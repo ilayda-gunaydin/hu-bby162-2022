{
  "cells": [
    {
      "cell_type": "markdown",
      "metadata": {
        "id": "view-in-github",
        "colab_type": "text"
      },
      "source": [
        "<a href=\"https://colab.research.google.com/github/ilayda-gunaydin/hu-bby162-2022/blob/main/KelimeOyunu.ipynb\" target=\"_parent\"><img src=\"https://colab.research.google.com/assets/colab-badge.svg\" alt=\"Open In Colab\"/></a>"
      ]
    },
    {
      "cell_type": "code",
      "execution_count": 21,
      "metadata": {
        "colab": {
          "base_uri": "https://localhost:8080/"
        },
        "id": "bkmNVG926FVK",
        "outputId": "12e3c8fe-6604-4e84-d53a-80d662c0f18c"
      },
      "outputs": [
        {
          "output_type": "stream",
          "name": "stdout",
          "text": [
            "Tanımları verilen kelimeleri tahmin ediniz! Unutmayın 2 tahmin hakkınız var. Başarılar :)))\n",
            "Kelime tanım: üstesinden gelinen, başarılan iş.\n",
            " Tahmininizi giriniz! başarı\n",
            "Doğru cevap :), puanınız: 5\n",
            "Yeni kelime tanım: insan aklının alabileceği gerçek, olgu ve ilkelerin tümüne verilen ad.\n",
            "Tahmininizi giriniz! bilgi\n",
            "Doğru cevap :), puanınız: 10\n",
            "Yeni kelime tanım: bir araştırmada, bir tartışmada, bir akıl yürütmede sonuca ulaşabilmek için gereken ilk bilgi.\n",
            "Tahmininizi giriniz! veri\n",
            "Doğru cevap :), puanınız: 15\n",
            "Yeni kelime tanım: bir gerçeği, bir olguyu gösteren, bir savın doğruluğuna apaçık inanç veren, tanıklık eden şey.\n",
            "Tahmininizi giriniz! belge\n",
            "Doğru cevap :), toplam puanınız: 20\n"
          ]
        }
      ],
      "source": [
        "print(\"Tanımları verilen kelimeleri tahmin ediniz! Unutmayın 2 tahmin hakkınız var. Başarılar :)))\")\n",
        "liste = [\"başarı\" , \"bilgi\", \"veri\" , \"belge\"]\n",
        "can = 2 \n",
        "puan = 0\n",
        "while can > 0:\n",
        "  print(\"Kelime tanım: üstesinden gelinen, başarılan iş.\")\n",
        "  tahmin = input(\" Tahmininizi giriniz! \")\n",
        "  if tahmin in liste:\n",
        "   puan +=5\n",
        "   print(\"Doğru cevap :), puanınız: \" + str(puan))\n",
        "   break\n",
        "  else:\n",
        "    can = can - 1\n",
        "    print(\"Yanlış cevap :(\")\n",
        "    print(\"Toplam puanınız: \" +str(puan))\n",
        "  if can == 0:\n",
        "    print(\"Kaybettiniz :( \")\n",
        "\n",
        "while can > 0:\n",
        "  print(\"Yeni kelime tanım: insan aklının alabileceği gerçek, olgu ve ilkelerin tümüne verilen ad.\")\n",
        "  tahmin = input(\"Tahmininizi giriniz! \")\n",
        "  if tahmin in liste:\n",
        "    puan +=5\n",
        "    print(\"Doğru cevap :), puanınız: \" + str(puan))\n",
        "    break\n",
        "  else:\n",
        "    can = can - 1\n",
        "    print(\"Yanlış cevap :(\")\n",
        "    print(\"Toplam puanınız: \" +str(puan))\n",
        "  if can == 0:\n",
        "    print(\"Kaybettiniz :( \")\n",
        "\n",
        "while can > 0:\n",
        "  print(\"Yeni kelime tanım: bir araştırmada, bir tartışmada, bir akıl yürütmede sonuca ulaşabilmek için gereken ilk bilgi.\")\n",
        "  tahmin = input(\"Tahmininizi giriniz! \")\n",
        "  if tahmin in liste:\n",
        "    puan +=5\n",
        "    print(\"Doğru cevap :), puanınız: \" + str(puan))\n",
        "    break\n",
        "  else:\n",
        "    can = can - 1\n",
        "    print(\"Yanlış cevap :(\")\n",
        "    print(\"Toplam puanınız: \" +str(puan))\n",
        "  if can == 0:\n",
        "    print(\"Kaybettiniz :(\")\n",
        "\n",
        "while can > 0:\n",
        "  print(\"Yeni kelime tanım: bir gerçeği, bir olguyu gösteren, bir savın doğruluğuna apaçık inanç veren, tanıklık eden şey.\")\n",
        "  tahmin = input(\"Tahmininizi giriniz! \")\n",
        "  if tahmin in liste:\n",
        "    puan +=5\n",
        "    print(\"Doğru cevap :), toplam puanınız: \" + str(puan))\n",
        "    break\n",
        "  else:\n",
        "    can = can - 1\n",
        "    print(\"Yanlış cevap :(\")\n",
        "    print(\"Toplam puanınız: \" +str(puan))\n",
        "  if can == 0:\n",
        "    print(\"Kaybettiniz :(\")\n",
        "    \n",
        "  \n"
      ]
    }
  ],
  "metadata": {
    "colab": {
      "name": "KelimeOyunu.ipynb",
      "provenance": [],
      "authorship_tag": "ABX9TyNTRM9dMdApW4rF3RgQ9yAT",
      "include_colab_link": true
    },
    "kernelspec": {
      "display_name": "Python 3",
      "name": "python3"
    },
    "language_info": {
      "name": "python"
    }
  },
  "nbformat": 4,
  "nbformat_minor": 0
}