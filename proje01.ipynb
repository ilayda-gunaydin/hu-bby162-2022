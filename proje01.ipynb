{
  "nbformat": 4,
  "nbformat_minor": 0,
  "metadata": {
    "colab": {
      "name": "proje01.ipynb",
      "provenance": [],
      "authorship_tag": "ABX9TyMIXMEW8E6sXl3sEbCEzTy7",
      "include_colab_link": true
    },
    "kernelspec": {
      "name": "python3",
      "display_name": "Python 3"
    },
    "language_info": {
      "name": "python"
    }
  },
  "cells": [
    {
      "cell_type": "markdown",
      "metadata": {
        "id": "view-in-github",
        "colab_type": "text"
      },
      "source": [
        "<a href=\"https://colab.research.google.com/github/ilayda-gunaydin/hu-bby162-2022/blob/main/proje01.ipynb\" target=\"_parent\"><img src=\"https://colab.research.google.com/assets/colab-badge.svg\" alt=\"Open In Colab\"/></a>"
      ]
    },
    {
      "cell_type": "code",
      "execution_count": null,
      "metadata": {
        "colab": {
          "base_uri": "https://localhost:8080/"
        },
        "id": "oBe2cQhl296G",
        "outputId": "0a034624-dc53-4494-d113-9d5034aba2f0"
      },
      "outputs": [
        {
          "output_type": "stream",
          "name": "stdout",
          "text": [
            "İndeks numarasını giriniz: maydonoz\n",
            "indeks dışı giriş..!\n"
          ]
        }
      ],
      "source": [
        "liste = (\"tavşan\", \"marul\", \"leopar\", \"salam\", \"demir\", \"tahta\")\n",
        "secim = input(\"İndeks numarasını giriniz: \")\n",
        "\n",
        "if (secim. isdigit()):\n",
        "  secim=int(secim)\n",
        "  listeToplam = len(liste)\n",
        "  if secim < listeToplam:\n",
        "     print(liste[secim])\n",
        "else:\n",
        "  print(\"indeks dışı giriş..!\")"
      ]
    }
  ]
}