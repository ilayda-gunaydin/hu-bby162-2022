{
  "nbformat": 4,
  "nbformat_minor": 0,
  "metadata": {
    "colab": {
      "name": "Untitled2.ipynb",
      "provenance": [],
      "authorship_tag": "ABX9TyPnnnoN6gO7BsA8va8y5dDL",
      "include_colab_link": true
    },
    "kernelspec": {
      "name": "python3",
      "display_name": "Python 3"
    },
    "language_info": {
      "name": "python"
    }
  },
  "cells": [
    {
      "cell_type": "markdown",
      "metadata": {
        "id": "view-in-github",
        "colab_type": "text"
      },
      "source": [
        "<a href=\"https://colab.research.google.com/github/ilayda-gunaydin/hu-bby162-2022/blob/main/Kelimeoyunudeneme.ipynb\" target=\"_parent\"><img src=\"https://colab.research.google.com/assets/colab-badge.svg\" alt=\"Open In Colab\"/></a>"
      ]
    },
    {
      "cell_type": "code",
      "source": [
        ""
      ],
      "metadata": {
        "id": "-IheqvhjKc1w"
      },
      "execution_count": null,
      "outputs": []
    },
    {
      "cell_type": "code",
      "execution_count": null,
      "metadata": {
        "colab": {
          "base_uri": "https://localhost:8080/"
        },
        "id": "bkmNVG926FVK",
        "outputId": "095bf440-c2a7-4f3f-e956-cf41e0317652"
      },
      "outputs": [
        {
          "output_type": "stream",
          "name": "stdout",
          "text": [
            "İpuçlarını takip ederek kelimeyi bulunuz! \n",
            "İpucu= geometri, üç boyutlu şekil, daire, pramit \n"
          ]
        }
      ],
      "source": [
        "print(\"İpuçlarını takip ederek kelimeyi bulunuz! \")\n",
        "liste = [\"koni\" , \"soba\", \"kafes\" , \"vatan\" , \"sis\"]\n",
        "can = 2\n",
        "while can > 0:\n",
        "  print(\"İpucu= geometri, üç boyutlu şekil, daire, pramit \")\n",
        "  tahmin = input(\"Tahmininizi giriniz! \")\n",
        "  if tahmin in liste:\n",
        "   print(\"5 puan kazandınız :)\")\n",
        "   break\n",
        "  else:\n",
        "    can = can - 1\n",
        "  if can == 0:\n",
        "    print(\"Kaybettiniz :(\")\n",
        "liste = [\"koni\" , \"soba\", \"kafes\" , \"vatan\" , \"sis\"]\n",
        "can = 2 \n",
        "while can > 0:\n",
        "  print(\"İpucu= köz, kömür, boru, ısınmak, kestane \")\n",
        "  tahmin = input(\"Tahmininizi giriniz! \")\n",
        "  if tahmin in liste:\n",
        "    print(\"5 puan kazandınız :)\" )\n",
        "    break\n",
        "  else:\n",
        "    can = can - 1\n",
        "    if can == 0:\n",
        "      print(\"Kaybettiniz :(\")\n",
        "liste = [\"koni\" , \"soba\", \"kafes\" , \"vatan\" , \"sis\"]\n",
        "can = 2\n",
        "while can > 0:\n",
        "  print(\"İpucu= kapan, kuş, yem, çevrili, demir \")\n",
        "  tahmin = input(\"Tahmininizi giriniz! \")\n",
        "  if tahmin in liste:\n",
        "    print(\"5 puan kazandınız :)\")\n",
        "    break\n",
        "  else:\n",
        "    can = can - 1\n",
        "  if can == 0:\n",
        "    print(\"Kaybettiniz :(\")\n",
        "liste = [\"koni\" , \"soba\", \"kafes\" , \"vatan\" , \"sis\"]\n",
        "can = 2\n",
        "while can > 0:\n",
        "  print(\"İpucu= toprak, asker, millet, yurt, can\")\n",
        "  tahmin = input(\"Tahmininizi giriniz! \")\n",
        "  if tahmin in liste:\n",
        "    print(\"5 puan kazandınız :)\")\n",
        "    break\n",
        "  else:\n",
        "    can = can - 1\n",
        "  if can == 0:\n",
        "    print(\"Kaybettiniz :(\")\n",
        "\n",
        "  "
      ]
    }
  ]
}